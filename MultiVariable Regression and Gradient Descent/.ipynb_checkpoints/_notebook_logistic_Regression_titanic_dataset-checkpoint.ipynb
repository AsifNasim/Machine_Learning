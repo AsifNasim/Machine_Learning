{
 "cells": [
  {
   "cell_type": "code",
   "execution_count": 1,
   "metadata": {},
   "outputs": [],
   "source": [
    "def f1(s):\n",
    "    if s=='male':\n",
    "        return 0\n",
    "    else:\n",
    "        return 1\n",
    "    \n",
    "def f2(s):\n",
    "    if(s=='C'):\n",
    "        return 0 \n",
    "    elif(s=='Q'):\n",
    "        return 1\n",
    "    elif(s=='S'):\n",
    "        return 2"
   ]
  },
  {
   "cell_type": "code",
   "execution_count": 2,
   "metadata": {},
   "outputs": [
    {
     "data": {
      "text/plain": [
       "((668, 7), (668,))"
      ]
     },
     "execution_count": 2,
     "metadata": {},
     "output_type": "execute_result"
    }
   ],
   "source": [
    "import numpy as np\n",
    "import pandas as pd\n",
    "\n",
    "data=pd.read_csv(\"C:/Users/Srijna/Downloads/0000000000002429_training_titanic_x_y_train.csv\", delimiter=\",\")\n",
    "test=pd.read_csv(\"C:/Users/Srijna/Downloads/0000000000002429_test_titanic_x_test.csv\", delimiter=\",\")\n",
    "\n",
    "\n",
    "df=pd.DataFrame(data)\n",
    "\n",
    "#for trainnig data\n",
    "#Drop columns\n",
    "df.drop(columns=[\"Name\"], inplace=True)\n",
    "df.drop(columns=[\"Ticket\"], inplace=True)\n",
    "df.drop(columns=[\"Cabin\"], inplace=True)\n",
    "\n",
    "\n",
    "#converting string into integer\n",
    "df['Sex']=df.Sex.apply(f1)\n",
    "df['Embarked']=df.Embarked.apply(f2)\n",
    "\n",
    "\n",
    "#handling nan\n",
    "df.Age.fillna(df.Age.mean(), inplace=True)\n",
    "df.Embarked.fillna(2, inplace=True)\n",
    "\n",
    "\n",
    "data=np.array(df)\n",
    "\n",
    "X=data[: , :7]\n",
    "Y=data[: , 7]\n",
    "X.shape, Y.shape"
   ]
  },
  {
   "cell_type": "code",
   "execution_count": 3,
   "metadata": {},
   "outputs": [
    {
     "data": {
      "text/plain": [
       "(223, 7)"
      ]
     },
     "execution_count": 3,
     "metadata": {},
     "output_type": "execute_result"
    }
   ],
   "source": [
    "#for testing data\n",
    "\n",
    "df2=pd.DataFrame(test)\n",
    "\n",
    "#Drop columns\n",
    "df2.drop(columns=[\"Name\"], inplace=True)\n",
    "df2.drop(columns=[\"Ticket\"], inplace=True)\n",
    "df2.drop(columns=[\"Cabin\"], inplace=True)\n",
    "\n",
    "\n",
    "#converting string into integer\n",
    "df2['Sex']=df2.Sex.apply(f1)\n",
    "df2['Embarked']=df2.Embarked.apply(f2)\n",
    "\n",
    "\n",
    "#handling nan\n",
    "df2.Age.fillna(df2.Age.mean(), inplace=True)\n",
    "df2.Embarked.fillna(2, inplace=True)\n",
    "\n",
    "test=np.array(df2)\n",
    "test.shape"
   ]
  },
  {
   "cell_type": "code",
   "execution_count": 6,
   "metadata": {},
   "outputs": [],
   "source": [
    "from sklearn import model_selection\n",
    "\n",
    "X_train, X_test, Y_train, Y_test=model_selection.train_test_split(X, Y, random_state=1)"
   ]
  },
  {
   "cell_type": "code",
   "execution_count": 7,
   "metadata": {},
   "outputs": [
    {
     "data": {
      "text/plain": [
       "LogisticRegression(C=1.0, class_weight=None, dual=False, fit_intercept=True,\n",
       "          intercept_scaling=1, max_iter=100, multi_class='ovr', n_jobs=1,\n",
       "          penalty='l2', random_state=None, solver='liblinear', tol=0.0001,\n",
       "          verbose=0, warm_start=False)"
      ]
     },
     "execution_count": 7,
     "metadata": {},
     "output_type": "execute_result"
    }
   ],
   "source": [
    "from sklearn.linear_model import LogisticRegression\n",
    "\n",
    "clf=LogisticRegression()\n",
    "clf.fit(X_train, Y_train)"
   ]
  },
  {
   "cell_type": "code",
   "execution_count": 8,
   "metadata": {},
   "outputs": [
    {
     "name": "stdout",
     "output_type": "stream",
     "text": [
      "0.7864271457085829\n",
      "0.8083832335329342\n",
      "[0.30990245 0.69009755]\n",
      "[ 0.  0.  0.  0.  0.  0.  0.  0.  0.  1.  0.  0.  0.  0.  0.  0.  0.  0.\n",
      "  0.  0.  0.  1.  0. -1.  0.  0.  0.  1.  0.  0.  0. -1.  0.  1.  0.  0.\n",
      "  0.  0.  0.  1.  0.  0.  0.  0.  0.  0.  0.  0.  0.  0.  0.  0.  0.  0.\n",
      "  0.  0. -1.  0.  1.  0.  0.  1.  0.  0.  0.  0.  0.  0.  0.  0.  0.  0.\n",
      "  0.  0.  0.  0.  1.  0.  0.  0.  0. -1.  0.  1.  0.  0.  0.  0.  0.  0.\n",
      "  0.  0.  0.  0.  0.  0.  0.  0.  1.  0.  0. -1. -1.  0. -1.  0.  0.  0.\n",
      "  1.  0.  0.  0. -1.  0.  1.  0.  0.  0.  1.  0.  0.  0.  0.  0.  0. -1.\n",
      "  0.  0.  0. -1.  0.  0.  0.  0.  0.  0.  0.  0.  1.  0.  0.  0.  0.  1.\n",
      "  0.  0.  0.  1.  1.  0.  1. -1.  0.  0.  0. -1.  0.  0.  0.  0. -1.  0.\n",
      "  0. -1.  0.  0.  0.]\n"
     ]
    }
   ],
   "source": [
    "Y_pred=clf.predict(X_test)\n",
    "\n",
    "print(clf.score(X_train, Y_train))\n",
    "print(clf.score(X_test, Y_test))\n",
    "\n",
    "print(clf.predict_proba(X_test)[9])\n",
    "print(Y_pred-Y_test)"
   ]
  },
  {
   "cell_type": "code",
   "execution_count": 10,
   "metadata": {},
   "outputs": [],
   "source": [
    "#predict for test data\n",
    "\n",
    "pred=clf.predict(test)\n",
    "\n",
    "np.savetxt(\"logistic_Regression_titanic_dataset_predictions.csv\", pred, delimiter=',')"
   ]
  }
 ],
 "metadata": {
  "kernelspec": {
   "display_name": "Python 3",
   "language": "python",
   "name": "python3"
  },
  "language_info": {
   "codemirror_mode": {
    "name": "ipython",
    "version": 3
   },
   "file_extension": ".py",
   "mimetype": "text/x-python",
   "name": "python",
   "nbconvert_exporter": "python",
   "pygments_lexer": "ipython3",
   "version": "3.7.1"
  }
 },
 "nbformat": 4,
 "nbformat_minor": 2
}
