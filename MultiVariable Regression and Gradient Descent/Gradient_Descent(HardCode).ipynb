{
 "cells": [
  {
   "cell_type": "code",
   "execution_count": 13,
   "metadata": {},
   "outputs": [
    {
     "data": {
      "text/plain": [
       "(100, 2)"
      ]
     },
     "execution_count": 13,
     "metadata": {},
     "output_type": "execute_result"
    }
   ],
   "source": [
    "import numpy as np\n",
    "data = np.genfromtxt(\"data.csv\", delimiter = \",\")\n",
    "data.shape"
   ]
  },
  {
   "cell_type": "code",
   "execution_count": 14,
   "metadata": {},
   "outputs": [],
   "source": [
    "def step_gradient(points, learning_rate, m, c):\n",
    "    m_slope = 0\n",
    "    c_slope = 0\n",
    "    M= len(points)\n",
    "    for i in range(M):\n",
    "        x = points[i, 0]\n",
    "        y = points[i, 1]\n",
    "        m_slope += (-2/M) * (y - m*x - c) * x\n",
    "        c_slope += (-2/M) * (y - m*x - c)\n",
    "    new_m = m - learning_rate* m_slope\n",
    "    new_c = c - learning_rate* c_slope\n",
    "    return new_m, new_c"
   ]
  },
  {
   "cell_type": "code",
   "execution_count": 15,
   "metadata": {},
   "outputs": [],
   "source": [
    "def gd(points, learning_rate, num_iterations):\n",
    "    m= 0\n",
    "    c= 0\n",
    "    for i in range(num_iterations):\n",
    "        m,c = step_gradient(points, learning_rate, m ,c)\n",
    "        print(i,\"Cost: \", cost(points, m, c))\n",
    "    return m, c"
   ]
  },
  {
   "cell_type": "code",
   "execution_count": 16,
   "metadata": {},
   "outputs": [],
   "source": [
    "def cost(points, m ,c):\n",
    "    total_cost = 0\n",
    "    M= len(points)\n",
    "    for i in range(M):\n",
    "        x=  points[i, 0]\n",
    "        y = points[i, 1]\n",
    "        total_cost += (1/M) * ((y - m*x - c)**2)\n",
    "        return total_cost\n",
    "        "
   ]
  },
  {
   "cell_type": "code",
   "execution_count": 20,
   "metadata": {},
   "outputs": [],
   "source": [
    "def run():\n",
    "    data = np.genfromtxt(\"data.csv\", delimiter=\",\")\n",
    "    learning_rate = 0.0001\n",
    "    num_iterations = 100\n",
    "    m, c = gd(data, learning_rate, num_iterations)\n",
    "    print(\"m: \",m,\"c: \", c)"
   ]
  },
  {
   "cell_type": "code",
   "execution_count": 18,
   "metadata": {},
   "outputs": [
    {
     "name": "stdout",
     "output_type": "stream",
     "text": [
      "0 Cost:  0.5984485345718256\n",
      "1 Cost:  0.18389655114036896\n",
      "2 Cost:  1.0649993710121592\n",
      "3 Cost:  1.7810014460544352\n",
      "4 Cost:  2.2091122378003907\n",
      "5 Cost:  2.4412118415838537\n",
      "6 Cost:  2.5620055368457346\n",
      "7 Cost:  2.623699512617561\n",
      "8 Cost:  2.6549261149927124\n",
      "9 Cost:  2.670662963711263\n",
      "10 Cost:  2.6785778617877356\n",
      "11 Cost:  2.6825560495625957\n",
      "12 Cost:  2.684556225633958\n",
      "13 Cost:  2.6855633703577126\n",
      "14 Cost:  2.68607218606677\n",
      "15 Cost:  2.686330979470651\n",
      "16 Cost:  2.686464344463137\n",
      "17 Cost:  2.6865347892156346\n",
      "18 Cost:  2.6865736713124284\n",
      "19 Cost:  2.6865967208444705\n",
      "20 Cost:  2.686611828434118\n",
      "21 Cost:  2.6866229521832077\n",
      "22 Cost:  2.686632077548817\n",
      "23 Cost:  2.68664020047044\n",
      "24 Cost:  2.6866478205278708\n",
      "25 Cost:  2.686655188318468\n",
      "26 Cost:  2.6866624295459114\n",
      "27 Cost:  2.6866696072651837\n",
      "28 Cost:  2.6866767531056808\n",
      "29 Cost:  2.686683882933205\n",
      "30 Cost:  2.6866910047063026\n",
      "31 Cost:  2.686698122417105\n",
      "32 Cost:  2.68670523806813\n",
      "33 Cost:  2.686712352663869\n",
      "34 Cost:  2.6867194667081997\n",
      "35 Cost:  2.686726580453865\n",
      "36 Cost:  2.686733694027651\n",
      "37 Cost:  2.686740807493153\n",
      "38 Cost:  2.686747920882277\n",
      "39 Cost:  2.686755034211019\n",
      "40 Cost:  2.6867621474874106\n",
      "41 Cost:  2.686769260715477\n",
      "42 Cost:  2.686776373897237\n",
      "43 Cost:  2.686783487033705\n",
      "44 Cost:  2.686790600125389\n",
      "45 Cost:  2.6867977131725445\n",
      "46 Cost:  2.686804826175299\n",
      "47 Cost:  2.686811939133716\n",
      "48 Cost:  2.686819052047832\n",
      "49 Cost:  2.686826164917658\n",
      "50 Cost:  2.686833277743205\n",
      "51 Cost:  2.6868403905244778\n",
      "52 Cost:  2.6868475032614776\n",
      "53 Cost:  2.6868546159542066\n",
      "54 Cost:  2.686861728602662\n",
      "55 Cost:  2.6868688412068455\n",
      "56 Cost:  2.686875953766763\n",
      "57 Cost:  2.6868830662824075\n",
      "58 Cost:  2.6868901787537856\n",
      "59 Cost:  2.6868972911808906\n",
      "60 Cost:  2.6869044035637293\n",
      "61 Cost:  2.686911515902297\n",
      "62 Cost:  2.6869186281965973\n",
      "63 Cost:  2.6869257404466267\n",
      "64 Cost:  2.6869328526523906\n",
      "65 Cost:  2.6869399648138845\n",
      "66 Cost:  2.686947076931109\n",
      "67 Cost:  2.6869541890040685\n",
      "68 Cost:  2.686961301032757\n",
      "69 Cost:  2.6869684130171794\n",
      "70 Cost:  2.686975524957336\n",
      "71 Cost:  2.6869826368532235\n",
      "72 Cost:  2.6869897487048453\n",
      "73 Cost:  2.6869968605121985\n",
      "74 Cost:  2.687003972275286\n",
      "75 Cost:  2.6870110839941073\n",
      "76 Cost:  2.687018195668661\n",
      "77 Cost:  2.687025307298951\n",
      "78 Cost:  2.6870324188849746\n",
      "79 Cost:  2.6870395304267305\n",
      "80 Cost:  2.6870466419242245\n",
      "81 Cost:  2.6870537533774512\n",
      "82 Cost:  2.6870608647864125\n",
      "83 Cost:  2.687067976151108\n",
      "84 Cost:  2.6870750874715426\n",
      "85 Cost:  2.6870821987477083\n",
      "86 Cost:  2.6870893099796116\n",
      "87 Cost:  2.6870964211672517\n",
      "88 Cost:  2.6871035323106254\n",
      "89 Cost:  2.687110643409739\n",
      "90 Cost:  2.6871177544645857\n",
      "91 Cost:  2.68712486547517\n",
      "92 Cost:  2.687131976441494\n",
      "93 Cost:  2.6871390873635517\n",
      "94 Cost:  2.687146198241345\n",
      "95 Cost:  2.6871533090748785\n",
      "96 Cost:  2.68716041986415\n",
      "97 Cost:  2.6871675306091607\n",
      "98 Cost:  2.6871746413099054\n",
      "99 Cost:  2.68718175196639\n",
      "1.4788027175308358 0.035074970592341756\n"
     ]
    }
   ],
   "source": [
    "run()"
   ]
  }
 ],
 "metadata": {
  "kernelspec": {
   "display_name": "Python 3",
   "language": "python",
   "name": "python3"
  },
  "language_info": {
   "codemirror_mode": {
    "name": "ipython",
    "version": 3
   },
   "file_extension": ".py",
   "mimetype": "text/x-python",
   "name": "python",
   "nbconvert_exporter": "python",
   "pygments_lexer": "ipython3",
   "version": "3.7.1"
  }
 },
 "nbformat": 4,
 "nbformat_minor": 2
}
