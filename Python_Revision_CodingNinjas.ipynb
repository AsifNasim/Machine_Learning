{
 "cells": [
  {
   "cell_type": "code",
   "execution_count": 3,
   "metadata": {},
   "outputs": [],
   "source": [
    "#while loop"
   ]
  },
  {
   "cell_type": "code",
   "execution_count": 4,
   "metadata": {},
   "outputs": [
    {
     "name": "stdout",
     "output_type": "stream",
     "text": [
      "5\n",
      "1 2 3 4 5 "
     ]
    }
   ],
   "source": [
    "n = int(input())\n",
    "i =1\n",
    "while(i <= n):\n",
    "    print(i, end =\" \")\n",
    "    i+=1"
   ]
  },
  {
   "cell_type": "code",
   "execution_count": 5,
   "metadata": {},
   "outputs": [
    {
     "name": "stdout",
     "output_type": "stream",
     "text": [
      "Enter any number: 5\n",
      "1 2 3 4 5 "
     ]
    }
   ],
   "source": [
    "n = int(input(\"Enter any number: \"))\n",
    "\n",
    "#for i in range(n+1): # by defult range starts from zero\n",
    "for i in range(1, n+1):\n",
    "    print(i, end = \" \")"
   ]
  },
  {
   "cell_type": "code",
   "execution_count": 6,
   "metadata": {},
   "outputs": [
    {
     "name": "stdout",
     "output_type": "stream",
     "text": [
      "Enter any number : 5\n",
      "prime\n"
     ]
    }
   ],
   "source": [
    "# prime number\n",
    "n = int(input(\"Enter any number : \"))\n",
    "\n",
    "prime = True\n",
    "for i in range(2, n):\n",
    "    if(n%i == 0):\n",
    "        prime = False\n",
    "        break\n",
    "        \n",
    "if(prime):\n",
    "    print(\"prime\")\n",
    "else:\n",
    "    print(\"Not prime\")"
   ]
  },
  {
   "cell_type": "code",
   "execution_count": 7,
   "metadata": {},
   "outputs": [
    {
     "name": "stdout",
     "output_type": "stream",
     "text": [
      "a b c d \n",
      "1 2 3 4 "
     ]
    }
   ],
   "source": [
    "#fast iteration , only typing wise not execution\n",
    "s = \"abcd\"\n",
    "for i in s:\n",
    "    print(i, end = \" \")\n",
    "print()\n",
    "# fast iteration on tuples\n",
    "a = (1,2,3,4)\n",
    "\n",
    "for b in a:\n",
    "    print(b, end = \" \")"
   ]
  },
  {
   "cell_type": "code",
   "execution_count": 10,
   "metadata": {},
   "outputs": [
    {
     "name": "stdout",
     "output_type": "stream",
     "text": [
      "sum of a and b is:  30\n"
     ]
    }
   ],
   "source": [
    "def sum(a,b):\n",
    "    return a+b\n",
    "\n",
    "a = 10\n",
    "b = 20\n",
    "\n",
    "c = sum(a,b)\n",
    "print(\"sum of a and b is: \", c)\n"
   ]
  },
  {
   "cell_type": "code",
   "execution_count": 12,
   "metadata": {},
   "outputs": [
    {
     "name": "stdout",
     "output_type": "stream",
     "text": [
      "36\n"
     ]
    }
   ],
   "source": [
    "#defaul argument to a function\n",
    "def power(x, y = 2):\n",
    "    return x**y\n",
    "\n",
    "print(power(6))"
   ]
  },
  {
   "cell_type": "code",
   "execution_count": 17,
   "metadata": {},
   "outputs": [
    {
     "data": {
      "text/plain": [
       "36"
      ]
     },
     "execution_count": 17,
     "metadata": {},
     "output_type": "execute_result"
    }
   ],
   "source": [
    "#variable number of inputs to a function\n",
    "\n",
    "def sum_variable(a, b, *more):\n",
    "    ans = a + b\n",
    "    for i in more:# fast iteration\n",
    "        ans += i\n",
    "    return ans\n",
    "\n",
    "sum_variable(1, 2, 3, 4, 5, 6, 7, 8)\n"
   ]
  },
  {
   "cell_type": "code",
   "execution_count": 20,
   "metadata": {},
   "outputs": [
    {
     "name": "stdout",
     "output_type": "stream",
     "text": [
      "22\n",
      "-2\n",
      "(22, -2)\n"
     ]
    }
   ],
   "source": [
    "# more than one return value \n",
    "# we can do this with help of comma \", \" in return  and it will return a tuple\n",
    "\n",
    "def dummy(a, b):\n",
    "    return a+b, a-b\n",
    "\n",
    "sum_, diff = dummy(10, 12)\n",
    "# a = dummy(10, 12)\n",
    "print(sum_)\n",
    "print(diff)\n",
    "print(a)# if we print together then it will return a tuple"
   ]
  },
  {
   "cell_type": "markdown",
   "metadata": {},
   "source": [
    "# Lists a.k.a Arrays"
   ]
  },
  {
   "cell_type": "code",
   "execution_count": 21,
   "metadata": {},
   "outputs": [],
   "source": [
    "# why we need lists because tuples are immutable"
   ]
  },
  {
   "cell_type": "code",
   "execution_count": 23,
   "metadata": {},
   "outputs": [
    {
     "data": {
      "text/plain": [
       "list"
      ]
     },
     "execution_count": 23,
     "metadata": {},
     "output_type": "execute_result"
    }
   ],
   "source": [
    "a = [1,2,3]\n",
    "type(a)"
   ]
  },
  {
   "cell_type": "code",
   "execution_count": 26,
   "metadata": {},
   "outputs": [
    {
     "data": {
      "text/plain": [
       "[1, 2, 3]"
      ]
     },
     "execution_count": 26,
     "metadata": {},
     "output_type": "execute_result"
    }
   ],
   "source": [
    "a1 = list(a)\n",
    "a1"
   ]
  },
  {
   "cell_type": "code",
   "execution_count": 27,
   "metadata": {},
   "outputs": [
    {
     "data": {
      "text/plain": [
       "[4, 5, 6]"
      ]
     },
     "execution_count": 27,
     "metadata": {},
     "output_type": "execute_result"
    }
   ],
   "source": [
    "a2 = list([4,5,6])\n",
    "a2\n"
   ]
  },
  {
   "cell_type": "code",
   "execution_count": 33,
   "metadata": {},
   "outputs": [
    {
     "data": {
      "text/plain": [
       "[0, 1, 2, 3, 4, 5, 6, 7, 8, 9]"
      ]
     },
     "execution_count": 33,
     "metadata": {},
     "output_type": "execute_result"
    }
   ],
   "source": [
    "b = [ i for i in range(10)] # It means for every i add 0 to my list\n",
    "b"
   ]
  },
  {
   "cell_type": "code",
   "execution_count": 39,
   "metadata": {},
   "outputs": [
    {
     "data": {
      "text/plain": [
       "[1,\n",
       " 1,\n",
       " 4,\n",
       " 27,\n",
       " 256,\n",
       " 3125,\n",
       " 46656,\n",
       " 823543,\n",
       " 16777216,\n",
       " 387420489,\n",
       " 10000000000,\n",
       " 285311670611,\n",
       " 8916100448256]"
      ]
     },
     "execution_count": 39,
     "metadata": {},
     "output_type": "execute_result"
    }
   ],
   "source": [
    "b1 = [i**i for i in range(12 + 1)]\n",
    "b1"
   ]
  },
  {
   "cell_type": "code",
   "execution_count": 41,
   "metadata": {},
   "outputs": [
    {
     "data": {
      "text/plain": [
       "3"
      ]
     },
     "execution_count": 41,
     "metadata": {},
     "output_type": "execute_result"
    }
   ],
   "source": [
    "# a[s:e], it will give us the element from start till end -1\n",
    "len(a)"
   ]
  },
  {
   "cell_type": "code",
   "execution_count": 43,
   "metadata": {},
   "outputs": [
    {
     "data": {
      "text/plain": [
       "'a, b, cc, ddd'"
      ]
     },
     "execution_count": 43,
     "metadata": {},
     "output_type": "execute_result"
    }
   ],
   "source": [
    "str = \"a, b, cc, ddd\"\n",
    "str.split(\" \")\n",
    "str"
   ]
  },
  {
   "cell_type": "code",
   "execution_count": 47,
   "metadata": {},
   "outputs": [
    {
     "name": "stdout",
     "output_type": "stream",
     "text": [
      "1234567890\n"
     ]
    },
    {
     "data": {
      "text/plain": [
       "[1234567890]"
      ]
     },
     "execution_count": 47,
     "metadata": {},
     "output_type": "execute_result"
    }
   ],
   "source": [
    "#explained verion\n",
    "str = input().strip()# strip will remove the redundantspaces in starting and end\n",
    "\n",
    "list =  str.split(\",\") # it will split around the argument given inside split\n",
    "\n",
    "for i in range (0 , len(list)):\n",
    "    list[i] = int(list[i]) # converting the string inyo integer\n",
    "list    "
   ]
  },
  {
   "cell_type": "code",
   "execution_count": 50,
   "metadata": {},
   "outputs": [
    {
     "name": "stdout",
     "output_type": "stream",
     "text": [
      " 2 3 4 4 4 3\n"
     ]
    },
    {
     "data": {
      "text/plain": [
       "[2, 3, 4, 4, 4, 3]"
      ]
     },
     "execution_count": 50,
     "metadata": {},
     "output_type": "execute_result"
    }
   ],
   "source": [
    "# one line for tking array input\n",
    "l = [int(x) for x in input().strip().split()]\n",
    "l"
   ]
  }
 ],
 "metadata": {
  "kernelspec": {
   "display_name": "Python 3",
   "language": "python",
   "name": "python3"
  },
  "language_info": {
   "codemirror_mode": {
    "name": "ipython",
    "version": 3
   },
   "file_extension": ".py",
   "mimetype": "text/x-python",
   "name": "python",
   "nbconvert_exporter": "python",
   "pygments_lexer": "ipython3",
   "version": "3.7.1"
  }
 },
 "nbformat": 4,
 "nbformat_minor": 2
}
